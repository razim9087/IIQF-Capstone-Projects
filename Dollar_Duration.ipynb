{
 "cells": [
  {
   "cell_type": "code",
   "execution_count": 1,
   "id": "6e260b26-2afe-4934-9e5d-a0f53ea63fee",
   "metadata": {},
   "outputs": [],
   "source": [
    "import pandas as pd\n",
    "import numpy as np\n",
    "from scipy.interpolate import interp1d\n",
    "import matplotlib.pyplot as plt\n",
    "import seaborn as sns"
   ]
  },
  {
   "cell_type": "code",
   "execution_count": 2,
   "id": "b28334f0-9c52-43dc-923c-2014ce6e289a",
   "metadata": {},
   "outputs": [],
   "source": [
    "r1 = 0.04097\n",
    "r2 = 0.03654\n",
    "r3 = 0.03487\n",
    "r5 = 0.03470\n",
    "r7 = 0.03567\n",
    "r10= 0.03681\n",
    "r30= 0.03994"
   ]
  },
  {
   "cell_type": "code",
   "execution_count": 3,
   "id": "01c2b330-7384-40dd-9e1d-d0c777019caa",
   "metadata": {},
   "outputs": [],
   "source": [
    "t = np.array([1,2,3,5,7,10,30])\n",
    "rate = [r1,r2,r3,r5,r7,r10,r30]"
   ]
  },
  {
   "cell_type": "code",
   "execution_count": 4,
   "id": "9c1631a0-2eed-4ecb-b053-8069fc48e191",
   "metadata": {},
   "outputs": [],
   "source": [
    "time = np.arange(1,31,1)\n",
    "interpolate = interp1d(t,rate,kind='quadratic')\n",
    "r = interpolate(time)"
   ]
  },
  {
   "cell_type": "code",
   "execution_count": 5,
   "id": "07118b1b-1303-4fc8-a603-e0d4ed7df4f3",
   "metadata": {},
   "outputs": [],
   "source": [
    "rates=r.copy()"
   ]
  },
  {
   "cell_type": "code",
   "execution_count": 6,
   "id": "5e742798-1afd-455c-979e-78f7a691f0d0",
   "metadata": {},
   "outputs": [],
   "source": [
    "def Price(FV,CR,N,Spot_rates):\n",
    "    price=0\n",
    "    coupon = FV *CR\n",
    "    cashflows = [coupon]*(N-1) + [coupon+FV]\n",
    "    for i in range(0,N):\n",
    "        price = price + cashflows[i]/(1+Spot_rates[i])**(i+1)\n",
    "    return price"
   ]
  },
  {
   "cell_type": "code",
   "execution_count": 7,
   "id": "efb0ae34-7c7f-434b-addd-5560d1d8a4cd",
   "metadata": {},
   "outputs": [],
   "source": [
    "def Derivative_dPdr(FV,CR,N,Spot_rates):\n",
    "    Mac_numerator =0\n",
    "    coupon = FV*CR\n",
    "    cashflows = [coupon]*(N-1) + [coupon + FV]\n",
    "    for i in range(0,N):\n",
    "        Mac_numerator = Mac_numerator + (i+1)*cashflows[i]/(1+Spot_rates[i])**(i+1)\n",
    "    return Mac_numerator"
   ]
  },
  {
   "cell_type": "code",
   "execution_count": 8,
   "id": "2a698c1b-cd8a-43c6-abcb-53a50d0cdd0e",
   "metadata": {},
   "outputs": [],
   "source": [
    "def Put_DV01(FV,CR,N,K,Spot_rates):\n",
    "    dv=0\n",
    "    pv=0\n",
    "    coupon = FV*CR\n",
    "    cashflows = [coupon]*(K-1) + [coupon + FV]\n",
    "    put_rates = Spot_rates[K:N]\n",
    "    for i in range(0,K):\n",
    "        pv = pv + (i+1)*cashflows[i]/(1+put_rates[i])**(i+1)\n",
    "    dv = pv/10000\n",
    "    return dv"
   ]
  },
  {
   "cell_type": "code",
   "execution_count": 9,
   "id": "c266c525-92a5-4931-9d88-001e5c0c302a",
   "metadata": {},
   "outputs": [],
   "source": [
    "def DV01(FV,CR,N,K,Spot_rates):\n",
    "    d=[]\n",
    "    Dollar_dur=[]\n",
    "    for i in range(0,N):\n",
    "        p = Derivative_dPdr(FV,CR,N-i,Spot_rates)\n",
    "        d.append(p)\n",
    "    for j in range(0,N):\n",
    "        dv = d[j]/10000\n",
    "        Dollar_dur.append(dv)\n",
    "    d_put = Put_DV01(FV,CR,N,K,Spot_rates)\n",
    "    Dollar_dur = np.insert(Dollar_dur,K-1,d_put)\n",
    "    return Dollar_dur       "
   ]
  },
  {
   "cell_type": "code",
   "execution_count": 10,
   "id": "e9cdc737-cf69-4500-b654-5b5607eb8059",
   "metadata": {},
   "outputs": [
    {
     "name": "stdout",
     "output_type": "stream",
     "text": [
      "           0\n",
      "0   2.036094\n",
      "1   1.994446\n",
      "2   1.951925\n",
      "3   1.908426\n",
      "4   1.863843\n",
      "5   1.818066\n",
      "6   1.770983\n",
      "7   1.722482\n",
      "8   1.672447\n",
      "9   1.620764\n",
      "10  1.567316\n",
      "11  1.511989\n",
      "12  1.454669\n",
      "13  1.395245\n",
      "14  1.238668\n",
      "15  1.333609\n",
      "16  1.269658\n",
      "17  1.203297\n",
      "18  1.134437\n",
      "19  1.063000\n",
      "20  0.988920\n",
      "21  0.912146\n",
      "22  0.832641\n",
      "23  0.750428\n",
      "24  0.665665\n",
      "25  0.578250\n",
      "26  0.487786\n",
      "27  0.394397\n",
      "28  0.298330\n",
      "29  0.200258\n",
      "30  0.100867\n"
     ]
    },
    {
     "data": {
      "text/plain": [
       "<Axes: >"
      ]
     },
     "execution_count": 10,
     "metadata": {},
     "output_type": "execute_result"
    },
    {
     "data": {
      "image/png": "[encoded data removed]",
      "text/plain": [
       "<Figure size 640x480 with 1 Axes>"
      ]
     },
     "metadata": {},
     "output_type": "display_data"
    }
   ],
   "source": [
    "dd = DV01(1000,0.05,30,15,rates)\n",
    "print(pd.DataFrame(dd))\n",
    "pd.DataFrame(dd).plot()"
   ]
  },
  {
   "cell_type": "code",
   "execution_count": null,
   "id": "2b3e61e6-7d42-412f-b8c3-a19a31dcd1ee",
   "metadata": {},
   "outputs": [],
   "source": []
  },
  {
   "cell_type": "code",
   "execution_count": null,
   "id": "1becfa73",
   "metadata": {},
   "outputs": [],
   "source": []
  }
 ],
 "metadata": {
  "kernelspec": {
   "display_name": "Python 3 (ipykernel)",
   "language": "python",
   "name": "python3"
  },
  "language_info": {
   "codemirror_mode": {
    "name": "ipython",
    "version": 3
   },
   "file_extension": ".py",
   "mimetype": "text/x-python",
   "name": "python",
   "nbconvert_exporter": "python",
   "pygments_lexer": "ipython3",
   "version": "3.11.5"
  }
 },
 "nbformat": 4,
 "nbformat_minor": 5
}
