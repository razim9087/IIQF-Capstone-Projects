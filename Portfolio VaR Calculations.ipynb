{
 "cells": [
  {
   "cell_type": "code",
   "execution_count": 2,
   "id": "9c38dcd7",
   "metadata": {},
   "outputs": [],
   "source": [
    "import pandas_market_calendars as mcal\n",
    "import yfinance as yf\n",
    "import pandas as pd\n",
    "import numpy as np\n",
    "import scipy.stats as stats"
   ]
  },
  {
   "cell_type": "code",
   "execution_count": 3,
   "id": "6e8a4d8b",
   "metadata": {},
   "outputs": [
    {
     "data": {
      "text/plain": [
       "504"
      ]
     },
     "execution_count": 3,
     "metadata": {},
     "output_type": "execute_result"
    }
   ],
   "source": [
    "# Create a calendar\n",
    "nse = mcal.get_calendar('NSE')\n",
    "\n",
    "end_date = '2019-10-01'  # Starting date\n",
    "\n",
    "# Show number of valid business days. Calculated by trial and error considering approximately 252 trading days in 1 calendar year.\n",
    "nse.valid_days(start_date='2017-09-15', end_date=end_date).size"
   ]
  },
  {
   "cell_type": "code",
   "execution_count": 4,
   "id": "a33088d6",
   "metadata": {},
   "outputs": [],
   "source": [
    "def get_historical_data(ticker, end_date, start_date):\n",
    "    \"\"\"\n",
    "    Fetch historical stock data for a given ticker from Yahoo Finance.\n",
    "\n",
    "    Parameters:\n",
    "    - ticker: Stock ticker symbol (str).\n",
    "    - end_date: The date from which the number of days are counted back(format: 'YYYY-MM-DD').\n",
    "    - start_days: Beginning date of the period\n",
    "\n",
    "    Returns:\n",
    "    - DataFrame containing the historical data for the specified period.\n",
    "    \"\"\"\n",
    "    \n",
    "    # Download the data from Yahoo Finance\n",
    "    data = yf.download(ticker, start=start_date, end=end_date)\n",
    "    \n",
    "    price_data = data['Adj Close']\n",
    "    price_data.columns = ticker\n",
    "    \n",
    "    return price_data"
   ]
  },
  {
   "cell_type": "code",
   "execution_count": 14,
   "id": "0644fe78",
   "metadata": {},
   "outputs": [
    {
     "name": "stderr",
     "output_type": "stream",
     "text": [
      "[*********************100%%**********************]  3 of 3 completed\n"
     ]
    }
   ],
   "source": [
    "portfolio_tickers=[\"DLF.NS\",\"NTPC.NS\",\"HDFCBANK.NS\"]\n",
    "historical_data =get_historical_data(portfolio_tickers,'2019-10-01','2017-09-17')\n",
    "historical_data=np.log(historical_data/historical_data.shift(1)).dropna()"
   ]
  },
  {
   "cell_type": "code",
   "execution_count": 6,
   "id": "a1e92e4c",
   "metadata": {},
   "outputs": [
    {
     "data": {
      "text/html": [
       "<div>\n",
       "<style scoped>\n",
       "    .dataframe tbody tr th:only-of-type {\n",
       "        vertical-align: middle;\n",
       "    }\n",
       "\n",
       "    .dataframe tbody tr th {\n",
       "        vertical-align: top;\n",
       "    }\n",
       "\n",
       "    .dataframe thead th {\n",
       "        text-align: right;\n",
       "    }\n",
       "</style>\n",
       "<table border=\"1\" class=\"dataframe\">\n",
       "  <thead>\n",
       "    <tr style=\"text-align: right;\">\n",
       "      <th></th>\n",
       "      <th>DLF.NS</th>\n",
       "      <th>NTPC.NS</th>\n",
       "      <th>HDFCBANK.NS</th>\n",
       "    </tr>\n",
       "    <tr>\n",
       "      <th>Date</th>\n",
       "      <th></th>\n",
       "      <th></th>\n",
       "      <th></th>\n",
       "    </tr>\n",
       "  </thead>\n",
       "  <tbody>\n",
       "    <tr>\n",
       "      <th>2017-09-19</th>\n",
       "      <td>-0.006012</td>\n",
       "      <td>-0.005795</td>\n",
       "      <td>0.005935</td>\n",
       "    </tr>\n",
       "    <tr>\n",
       "      <th>2017-09-20</th>\n",
       "      <td>-0.004994</td>\n",
       "      <td>-0.000460</td>\n",
       "      <td>-0.007126</td>\n",
       "    </tr>\n",
       "    <tr>\n",
       "      <th>2017-09-21</th>\n",
       "      <td>-0.025081</td>\n",
       "      <td>-0.005288</td>\n",
       "      <td>0.002381</td>\n",
       "    </tr>\n",
       "    <tr>\n",
       "      <th>2017-09-22</th>\n",
       "      <td>-0.064449</td>\n",
       "      <td>-0.008190</td>\n",
       "      <td>-0.013166</td>\n",
       "    </tr>\n",
       "    <tr>\n",
       "      <th>2017-09-25</th>\n",
       "      <td>-0.040582</td>\n",
       "      <td>-0.013439</td>\n",
       "      <td>0.001505</td>\n",
       "    </tr>\n",
       "  </tbody>\n",
       "</table>\n",
       "</div>"
      ],
      "text/plain": [
       "              DLF.NS   NTPC.NS  HDFCBANK.NS\n",
       "Date                                       \n",
       "2017-09-19 -0.006012 -0.005795     0.005935\n",
       "2017-09-20 -0.004994 -0.000460    -0.007126\n",
       "2017-09-21 -0.025081 -0.005288     0.002381\n",
       "2017-09-22 -0.064449 -0.008190    -0.013166\n",
       "2017-09-25 -0.040582 -0.013439     0.001505"
      ]
     },
     "execution_count": 6,
     "metadata": {},
     "output_type": "execute_result"
    }
   ],
   "source": [
    "historical_data.head()"
   ]
  },
  {
   "cell_type": "code",
   "execution_count": 7,
   "id": "8f07d200",
   "metadata": {},
   "outputs": [
    {
     "data": {
      "text/plain": [
       "(499, 3)"
      ]
     },
     "execution_count": 7,
     "metadata": {},
     "output_type": "execute_result"
    }
   ],
   "source": [
    "historical_data.shape"
   ]
  },
  {
   "cell_type": "code",
   "execution_count": 8,
   "id": "629fc7fa",
   "metadata": {},
   "outputs": [],
   "source": [
    "def portfolio_vol(weights, covmat):\n",
    "    \"\"\"\n",
    "    Computes the vol of a portfolio from a covariance matrix and constituent weights\n",
    "    weights are a numpy array or N x 1 maxtrix and covmat is an N x N matrix\n",
    "    \"\"\"\n",
    "    return (weights.T @ covmat @ weights)**0.5\n",
    "\n",
    "def var_historic(r, level=5):\n",
    "    \"\"\"\n",
    "    Returns the historic Value at Risk at a specified level\n",
    "    i.e. returns the number such that \"level\" percent of the returns\n",
    "    fall below that number, and the (100-level) percent are above\n",
    "    \"\"\"\n",
    "    if isinstance(r, pd.DataFrame):\n",
    "        return r.aggregate(var_historic, level=level)\n",
    "    elif isinstance(r, pd.Series):\n",
    "        return -np.percentile(r, 100-level)\n",
    "    else:\n",
    "        raise TypeError(\"Expected r to be a Series or DataFrame\")"
   ]
  },
  {
   "cell_type": "code",
   "execution_count": 9,
   "id": "ad03a825",
   "metadata": {},
   "outputs": [
    {
     "data": {
      "text/plain": [
       "Date\n",
       "2017-09-19   -0.003536\n",
       "2017-09-20   -0.003607\n",
       "2017-09-21   -0.011671\n",
       "2017-09-22   -0.031688\n",
       "2017-09-25   -0.021307\n",
       "                ...   \n",
       "2019-09-24   -0.003731\n",
       "2019-09-25   -0.030002\n",
       "2019-09-26    0.015423\n",
       "2019-09-27   -0.007095\n",
       "2019-09-30   -0.011662\n",
       "Length: 499, dtype: float64"
      ]
     },
     "execution_count": 9,
     "metadata": {},
     "output_type": "execute_result"
    }
   ],
   "source": [
    "weights=np.array([0.4,0.4,0.2]) ## Defining portfolio weights\n",
    "weighted_returns = historical_data.mul(weights, axis=1)\n",
    "portfolio_returns = weighted_returns.sum(axis=1) ## Calculating portfolio returns\n",
    "portfolio_returns"
   ]
  },
  {
   "cell_type": "markdown",
   "id": "0e49c27a",
   "metadata": {},
   "source": [
    "# Historic VaR"
   ]
  },
  {
   "cell_type": "code",
   "execution_count": 10,
   "id": "91aaea2e",
   "metadata": {},
   "outputs": [
    {
     "name": "stdout",
     "output_type": "stream",
     "text": [
      "3.700210633227667 %\n"
     ]
    }
   ],
   "source": [
    "## Defining Configence Level in a 100 % scale\n",
    "confidence_level=99 \n",
    "\n",
    "## Calculating Historic VaR in percentage\n",
    "var_h=var_historic(portfolio_returns, level=confidence_level) \n",
    "\n",
    "print(var_h*100,\"%\")"
   ]
  },
  {
   "cell_type": "markdown",
   "id": "e91b67f4",
   "metadata": {},
   "source": [
    "# Parametric VaR"
   ]
  },
  {
   "cell_type": "code",
   "execution_count": 11,
   "id": "6fa4cd10",
   "metadata": {},
   "outputs": [
    {
     "data": {
      "text/html": [
       "<div>\n",
       "<style scoped>\n",
       "    .dataframe tbody tr th:only-of-type {\n",
       "        vertical-align: middle;\n",
       "    }\n",
       "\n",
       "    .dataframe tbody tr th {\n",
       "        vertical-align: top;\n",
       "    }\n",
       "\n",
       "    .dataframe thead th {\n",
       "        text-align: right;\n",
       "    }\n",
       "</style>\n",
       "<table border=\"1\" class=\"dataframe\">\n",
       "  <thead>\n",
       "    <tr style=\"text-align: right;\">\n",
       "      <th></th>\n",
       "      <th>DLF.NS</th>\n",
       "      <th>NTPC.NS</th>\n",
       "      <th>HDFCBANK.NS</th>\n",
       "    </tr>\n",
       "  </thead>\n",
       "  <tbody>\n",
       "    <tr>\n",
       "      <th>DLF.NS</th>\n",
       "      <td>0.000748</td>\n",
       "      <td>0.000087</td>\n",
       "      <td>0.000084</td>\n",
       "    </tr>\n",
       "    <tr>\n",
       "      <th>NTPC.NS</th>\n",
       "      <td>0.000087</td>\n",
       "      <td>0.000125</td>\n",
       "      <td>0.000023</td>\n",
       "    </tr>\n",
       "    <tr>\n",
       "      <th>HDFCBANK.NS</th>\n",
       "      <td>0.000084</td>\n",
       "      <td>0.000023</td>\n",
       "      <td>0.000195</td>\n",
       "    </tr>\n",
       "  </tbody>\n",
       "</table>\n",
       "</div>"
      ],
      "text/plain": [
       "               DLF.NS   NTPC.NS  HDFCBANK.NS\n",
       "DLF.NS       0.000748  0.000087     0.000084\n",
       "NTPC.NS      0.000087  0.000125     0.000023\n",
       "HDFCBANK.NS  0.000084  0.000023     0.000195"
      ]
     },
     "execution_count": 11,
     "metadata": {},
     "output_type": "execute_result"
    }
   ],
   "source": [
    "covmat=historical_data.cov()\n",
    "covmat"
   ]
  },
  {
   "cell_type": "code",
   "execution_count": 12,
   "id": "f23dc5f9",
   "metadata": {},
   "outputs": [
    {
     "name": "stdout",
     "output_type": "stream",
     "text": [
      "0.00439236243331152 %\n"
     ]
    }
   ],
   "source": [
    "mean_return = portfolio_returns.mean()\n",
    "print(mean_return*100,\"%\")"
   ]
  },
  {
   "cell_type": "code",
   "execution_count": 13,
   "id": "c4db86ec",
   "metadata": {},
   "outputs": [
    {
     "name": "stdout",
     "output_type": "stream",
     "text": [
      "3.222651634708013 %\n"
     ]
    }
   ],
   "source": [
    "covmat=historical_data.cov()\n",
    "pvol=portfolio_vol(weights, covmat)\n",
    "\n",
    "# Calculate the mean and standard deviation of returns\n",
    "mean_return = portfolio_returns.mean()\n",
    "std_return = pvol\n",
    "\n",
    "# Calculate the z-score for the given confidence level\n",
    "z_score = stats.norm.ppf(1-confidence_level/100)\n",
    "\n",
    "# Calculate the Parametric VaR\n",
    "parametric_var = -(mean_return + z_score * std_return)\n",
    "\n",
    "parametric_var*100\n",
    "print(parametric_var*100,\"%\")"
   ]
  },
  {
   "cell_type": "code",
   "execution_count": null,
   "id": "10d93fb7",
   "metadata": {},
   "outputs": [],
   "source": []
  }
 ],
 "metadata": {
  "kernelspec": {
   "display_name": "Python 3 (ipykernel)",
   "language": "python",
   "name": "python3"
  },
  "language_info": {
   "codemirror_mode": {
    "name": "ipython",
    "version": 3
   },
   "file_extension": ".py",
   "mimetype": "text/x-python",
   "name": "python",
   "nbconvert_exporter": "python",
   "pygments_lexer": "ipython3",
   "version": "3.11.5"
  }
 },
 "nbformat": 4,
 "nbformat_minor": 5
}
