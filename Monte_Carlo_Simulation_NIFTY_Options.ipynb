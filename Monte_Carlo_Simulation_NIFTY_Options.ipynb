{
 "cells": [
  {
   "cell_type": "markdown",
   "id": "8abd0629-5063-4bbb-84b5-46ea85c83679",
   "metadata": {},
   "source": [
    "# ESTIMATING 1-MONTH OPTION PRICE ON NIFTY USING MONTE-CARLO SIMULATION"
   ]
  },
  {
   "cell_type": "code",
   "execution_count": 2,
   "id": "60d10fcc-62ae-443a-9d37-b3a70c145a07",
   "metadata": {},
   "outputs": [],
   "source": [
    "import pandas as pd\n",
    "import numpy as np\n",
    "import random\n",
    "import yfinance as yf"
   ]
  },
  {
   "cell_type": "markdown",
   "id": "8d030ef0-8a97-4e57-b63d-1e5054dd842f",
   "metadata": {},
   "source": [
    " We use the price data for the month of August to calculate the *mean* and *SD* estimates,\n",
    " to be used in the Simulation exercise to forecast Price paths over the next month.\n",
    "\n",
    "- Price Calculated on : **01-09-2024**\n",
    "- Option Expiry Date : **03-10-2024**\n",
    "- Number of Trading days = **23**"
   ]
  },
  {
   "cell_type": "code",
   "execution_count": 3,
   "id": "f4e2e4fc-c764-4da2-b965-45fa87628dee",
   "metadata": {},
   "outputs": [],
   "source": [
    "data = yf.download('^NSEI',\n",
    "                   start =\"2024-08-01\",\n",
    "                   end = \"2024-08-31\",\n",
    "                   progress = False)\n",
    "data1 = data.copy(deep=True)"
   ]
  },
  {
   "cell_type": "code",
   "execution_count": 4,
   "id": "ac6707db-741a-407f-b00a-c779c1ccfcbf",
   "metadata": {},
   "outputs": [],
   "source": [
    "price = data1[\"Adj Close\"]\n",
    "returns = np.log(price/price.shift(1)).dropna()"
   ]
  },
  {
   "cell_type": "code",
   "execution_count": 5,
   "id": "8cb14ab6-cbb0-46c5-9b7c-84d2b59fc0cf",
   "metadata": {},
   "outputs": [
    {
     "name": "stdout",
     "output_type": "stream",
     "text": [
      "Mean and SD estimates of the returns of NIFTY index in the month of August are 0.00044779269602611275 and 0.009365599456199991 respectively\n"
     ]
    }
   ],
   "source": [
    "mu = returns.mean()\n",
    "sd = returns.std()\n",
    "print(\"Mean and SD estimates of the returns of NIFTY index in the month of August are\", mu ,\"and\",sd,\"respectively\")"
   ]
  },
  {
   "cell_type": "markdown",
   "id": "9c7639fd-d939-4122-be11-cf67ae04b512",
   "metadata": {},
   "source": [
    "## <u>ASSUMPTIONS<u>\n",
    "\n",
    "- We assume that the stocks in the NIFTY index follows a **<u>Geometric Brownian Motion<u>**\n",
    "- Extending the above assumption for the index, we will assume that the **NIFTY also\n",
    "   follows a Geometric Brownian Motion(GBM)**\n",
    "- We use the closed form solution of the GBM to generate price paths for the NIFTY\n",
    "   over the next month( i.e. 23 trading days),\n",
    "   we will simulate 100 Price Paths.\n",
    "- GBM follows a Stochastic Differntial Equation\n",
    "   **$dS(t) = S(t)(mu * dt + sd*dW(t))$**\n",
    "   where\n",
    "   - dt : timesteps, in our case dt=1\n",
    "   - dW(t) ~ N(0,dt) and dW(t) = W(t)-W(t-1)\n",
    "      \n",
    "- Closed Form Solution to the above SDE is,\n",
    "\n",
    "    **$S(t) = S(0)*exp ^(mu - 0.5 * sd^2)* t + sd * W(t)$**\n",
    "   where\n",
    "   - S(t) : Value of the process at time,t.\n",
    "   - S(0) : Value of the process at time 0 or the recent traded price on the exchange.\n",
    "   - W(t) : Value of the Weiner process at time,t \n",
    "\n",
    "- We use the 10 year Govt Bond yield as a proxy for the risk free rate,\n",
    "   **risk free rate = 7.365% p.a** \n",
    "\n",
    "- A **seed value=100** is used so that the process generates a unique answer."
   ]
  },
  {
   "cell_type": "markdown",
   "id": "f586fa65-4e32-4b38-9f4d-9e1e5e25caef",
   "metadata": {},
   "source": [
    "## <u>FUNCTION TO CALCULATE OPTION PRICE<u>\n",
    "\n",
    "- We assume Continuous compounding\n",
    "\n",
    "- **Price of the Option = Mean of Present Value of all the Simulated Option Payoffs.**\n",
    "\n",
    "- Strike Price, K=**25200**\n",
    "\n",
    "- Time steps = 1,\n",
    "  that is we simulate end of day closing price for 23 days.\n",
    " \n",
    "- tenure = days to expiry "
   ]
  },
  {
   "cell_type": "code",
   "execution_count": 8,
   "id": "84943b21-94ec-4aa1-9730-4062188e546c",
   "metadata": {},
   "outputs": [],
   "source": [
    "def MCS_OptionPrice(pricepaths,n_simulation,S0,strike,rfr,tenure,mean,sigma):\n",
    "    dt=1\n",
    "    dW = np.zeros((pricepaths,n_simulation))\n",
    "    np.random.seed(100)\n",
    "    for i in range(0,pricepaths):\n",
    "        for j in range(0,n_simulation):\n",
    "             a = np.random.normal(loc=0,scale=np.sqrt(dt))\n",
    "             dW[i][j] = a\n",
    "    W = np.cumsum(dW,axis=1)\n",
    "    t = np.linspace(1,n_simulation,n_simulation)\n",
    "    t = np.broadcast_to(t,(pricepaths,n_simulation))\n",
    "    St = S0 * np.exp((mu - 0.5*sigma**2)*t + sigma*W)\n",
    "    St = pd.DataFrame(St)\n",
    "    terminal_price = St.iloc[:,-1]\n",
    "    payoff_call = np.maximum(0,terminal_price - strike)\n",
    "    payoff_put = np.maximum(strike - terminal_price,0)\n",
    "    pv_c = payoff_call * np.exp(-(rfr/365) * tenure)\n",
    "    Call_price = round(pv_c.mean(),3)\n",
    "    pv_p = payoff_put * np.exp(-(rfr/365) * tenure)\n",
    "    Put_price = round(pv_p.mean(),3)\n",
    "    return Call_price,Put_price"
   ]
  },
  {
   "cell_type": "markdown",
   "id": "59e0709c-1d67-45d8-b268-68d28d215bff",
   "metadata": {},
   "source": [
    "## CALCULATING OPTION PRICE - CALL AND PUT"
   ]
  },
  {
   "cell_type": "code",
   "execution_count": 10,
   "id": "3721469e-b5ab-4d21-be80-09304ac0c5f3",
   "metadata": {},
   "outputs": [],
   "source": [
    "Current_price = price.iloc[-1]"
   ]
  },
  {
   "cell_type": "code",
   "execution_count": 11,
   "id": "45d4f1ea-366d-43f9-b5c3-35a42b67d2ea",
   "metadata": {},
   "outputs": [
    {
     "name": "stdout",
     "output_type": "stream",
     "text": [
      "Call Option Price and Put Option Price are (626.64, 280.806)  respectively\n"
     ]
    }
   ],
   "source": [
    "Optionprice = MCS_OptionPrice(100,23,Current_price,25200,0.07365,32,mu,sd)\n",
    "print(\"Call Option Price and Put Option Price are\", Optionprice , \" respectively\")"
   ]
  },
  {
   "cell_type": "markdown",
   "id": "8ae90f4f-c207-4d98-9a00-712066664224",
   "metadata": {},
   "source": [
    "## <u>CONCLUSION<u>"
   ]
  },
  {
   "cell_type": "markdown",
   "id": "2508a748-5377-4ab8-8132-996042b2d867",
   "metadata": {},
   "source": [
    "## CALL-OPTION\n",
    "\n",
    "1. Market Price of Call Option on NIFTY for 1 month maturity and is 494.15 INR\n",
    "2. Simulated Call Option Price on NIFTY for 1 month maturity is 626.64 INR\n",
    "\n",
    "- We assume that the  Simulated Result is the Fair Value estimate of the Option Price.\n",
    "   Since Fair Value > Market Value\n",
    "\n",
    "   **<u>DECISION<u>**:\n",
    "   *We should Buy the Option and sell the option sometime before it matures* assuming that\n",
    "   \n",
    "   we have enough volatility,given a small time frame of 1 month, such that Market Value increases and converges to the Fair Value.\n",
    "\n",
    "## PUT-OPTION"
   ]
  },
  {
   "cell_type": "code",
   "execution_count": 14,
   "id": "b0b6a8fb-8481-4b89-bd89-1031e278f921",
   "metadata": {},
   "outputs": [
    {
     "name": "stdout",
     "output_type": "stream",
     "text": [
      "Market Price of Put Option on NIFTY for 1 month maturity is 279.90 INR\n",
      "Simulated Put Option Price on NIFTY for 1 month maturity is 280.80 INR\n"
     ]
    }
   ],
   "source": [
    "print(\"Market Price of Put Option on NIFTY for 1 month maturity is 279.90 INR\")\n",
    "print(\"Simulated Put Option Price on NIFTY for 1 month maturity is 280.80 INR\")"
   ]
  },
  {
   "cell_type": "markdown",
   "id": "b90f8f50-aed2-4e51-83b2-cdb7eb0f2e3d",
   "metadata": {},
   "source": [
    "- Same Assumption as Above,\n",
    "   Here Fair Value is almost equal to Market Value.\n",
    "\n",
    "   **<u>DECISION<u>**:\n",
    "   *Neither Buy nor Sell*, assuming that volatility does not fluctuate enough for a material change\n",
    "   in Price.\n",
    "\n",
    "   Since, Time left to expiry is only a month,it would be rational to assume that market would'nt display\n",
    "   any significant volatility."
   ]
  }
 ],
 "metadata": {
  "kernelspec": {
   "display_name": "Python 3 (ipykernel)",
   "language": "python",
   "name": "python3"
  },
  "language_info": {
   "codemirror_mode": {
    "name": "ipython",
    "version": 3
   },
   "file_extension": ".py",
   "mimetype": "text/x-python",
   "name": "python",
   "nbconvert_exporter": "python",
   "pygments_lexer": "ipython3",
   "version": "3.11.5"
  }
 },
 "nbformat": 4,
 "nbformat_minor": 5
}
